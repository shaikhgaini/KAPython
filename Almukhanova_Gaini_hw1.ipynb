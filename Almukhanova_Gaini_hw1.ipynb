{
 "cells": [
  {
   "cell_type": "code",
   "execution_count": 50,
   "id": "c0746e79",
   "metadata": {},
   "outputs": [],
   "source": [
    "import math as m"
   ]
  },
  {
   "cell_type": "markdown",
   "id": "117ae651",
   "metadata": {},
   "source": [
    "## Задание 1:\n",
    "Дано неотрицательное целое число. \n",
    "Найдите число десятков в его десятичной записи (то есть вторую справа цифру его десятичной записи).\n",
    "### Входные данные\n",
    "Вводится неотрицательное целое число.\n",
    "### Выходные данные\n",
    "Выведите ответ на задачу.\n",
    "#### Примеры\n",
    "Входные данные\n",
    "179\n",
    "\n",
    "Выходные данные\n",
    "7\n"
   ]
  },
  {
   "cell_type": "code",
   "execution_count": 51,
   "id": "39c5765b",
   "metadata": {},
   "outputs": [
    {
     "name": "stdout",
     "output_type": "stream",
     "text": [
      "1758\n",
      "5\n"
     ]
    }
   ],
   "source": [
    "a = int(input()) #вводим число\n",
    "\n",
    "res = a // 10 % 10 #получаем число десятков\n",
    "print (res) #выводим результат"
   ]
  },
  {
   "cell_type": "markdown",
   "id": "c940c5fd",
   "metadata": {},
   "source": [
    "## Задание 2:\n",
    "N школьников делят K яблок поровну, неделящийся остаток остается в корзинке. \n",
    "Сколько яблок достанется каждому школьнику?\n",
    "#### Входные данные\n",
    "Программа получает на вход числа N и K.\n",
    "#### Выходные данные\n",
    "Программа должна вывести искомое количество яблок.\n",
    "\n",
    "#### Примеры\n",
    "Входные данные\n",
    "3\n",
    "14\n",
    "\n",
    "Выходные данные\n",
    "4\n"
   ]
  },
  {
   "cell_type": "code",
   "execution_count": 52,
   "id": "a4ec304b",
   "metadata": {},
   "outputs": [
    {
     "name": "stdout",
     "output_type": "stream",
     "text": [
      "3\n",
      "14\n",
      "4\n"
     ]
    }
   ],
   "source": [
    "n = int(input()) # число школьников\n",
    "k = int(input()) # число яблок\n",
    "\n",
    "res = k // n # целое кол-во яблок на каждого школьника\n",
    "print(res)"
   ]
  },
  {
   "cell_type": "markdown",
   "id": "5317aa32",
   "metadata": {},
   "source": [
    "## Задание 3:\n",
    "Поле шахматной доски определяется парой чисел (a, b), каждое от 1 до 8, первое число задает номер столбца, второе – номер строки. Заданы две клетки. Определите, может ли шахматный король попасть с первой клетки на вторую за один ход.\n",
    "##### Входные данные\n",
    "Даны 4 целых числа от 1 до 8 каждое, первые два задают начальную клетку, вторые два задают конечную клетку. Начальная и конечная клетки не совпадают. Числа записаны в отдельных строках.\n",
    "##### Выходные данные\n",
    "Программа должна вывести YES, если из первой клетки ходом короля можно попасть во вторую, или NO в противном случае.\n",
    "#### Примеры\n",
    "Входные данные\n",
    "4\n",
    "4\n",
    "5\n",
    "5\n",
    "\n",
    "Выходные данные\n",
    "YES\n"
   ]
  },
  {
   "cell_type": "code",
   "execution_count": 53,
   "id": "c3c5dabc",
   "metadata": {
    "scrolled": true
   },
   "outputs": [
    {
     "name": "stdout",
     "output_type": "stream",
     "text": [
      "4\n",
      "4\n",
      "5\n",
      "5\n"
     ]
    }
   ],
   "source": [
    "# вводим координаты двух точек на доске\n",
    "coordinate_1 = int(input())\n",
    "coordinate_2 = int(input())\n",
    "coordinate_3 = int(input())\n",
    "coordinate_4 = int(input())"
   ]
  },
  {
   "cell_type": "code",
   "execution_count": 54,
   "id": "aabf486c",
   "metadata": {},
   "outputs": [
    {
     "name": "stdout",
     "output_type": "stream",
     "text": [
      "YES\n"
     ]
    }
   ],
   "source": [
    "# вариант решения 1\n",
    "if (coordinate_3 == coordinate_1 + 1 and coordinate_4 == coordinate_2 - 1) or\\\n",
    "    (coordinate_3 == coordinate_1 + 1 and coordinate_4 == coordinate_2) or \\\n",
    "    (coordinate_3 == coordinate_1 + 1 and coordinate_4 == coordinate_2 + 1) or \\\n",
    "    (coordinate_3 == coordinate_1 and coordinate_4 == coordinate_2 - 1) or \\\n",
    "    (coordinate_3 == coordinate_1 and coordinate_4 == coordinate_2 + 1) or \\\n",
    "    (coordinate_3 == coordinate_1 - 1 and coordinate_4 == coordinate_2 - 1) or \\\n",
    "    (coordinate_3 == coordinate_1 - 1 and coordinate_4 == coordinate_2) or \\\n",
    "    (coordinate_3 == coordinate_1 - 1 and coordinate_4 == coordinate_2 + 1):\n",
    "    print ('YES')\n",
    "else:\n",
    "    print('NO')"
   ]
  },
  {
   "cell_type": "code",
   "execution_count": 55,
   "id": "7e32ab04",
   "metadata": {},
   "outputs": [
    {
     "name": "stdout",
     "output_type": "stream",
     "text": [
      "YES\n"
     ]
    }
   ],
   "source": [
    "# вариант решения 2\n",
    "if (abs(coordinate_3 - coordinate_1) <= 1 and abs(coordinate_4 - coordinate_2)):\n",
    "    print('YES')\n",
    "else:\n",
    "    print('NO')"
   ]
  },
  {
   "cell_type": "markdown",
   "id": "a8d70045",
   "metadata": {},
   "source": [
    "## Задание 4:\n",
    "Дано число n. С начала суток прошло n минут. Определите, сколько часов и минут будут показывать электронные часы в этот момент. Программа должна вывести два числа: количество часов (от 0 до 23) и количество минут (от 0 до 59). Учтите, что число n может быть больше, чем количество минут в сутках.\n",
    "#### Входные данные\n",
    "Вводится целое число n.\n",
    "#### Выходные данные\n",
    "Выведите ответ на задачу.\n",
    "\n",
    "#### Примеры\n",
    "Входные данные\n",
    "150\n",
    "\n",
    "Выходные данные\n",
    "2 30\n",
    "\n",
    "Входные данные\n",
    "1441\n",
    "\n",
    "Выходные данные\n",
    "0 1\n"
   ]
  },
  {
   "cell_type": "code",
   "execution_count": 56,
   "id": "fa992da5",
   "metadata": {},
   "outputs": [
    {
     "name": "stdout",
     "output_type": "stream",
     "text": [
      "1441\n",
      "0 1\n"
     ]
    }
   ],
   "source": [
    "n = int(input()) #вводим кол-во минут\n",
    "\n",
    "#если это меньше чем сутки, то просто берем целое кол-во часов и минут\n",
    "if n // 60 <= 23: \n",
    "    hours = n // 60\n",
    "    minutes = n % 60\n",
    "    \n",
    "#если это больше чем сутки, то берем часы не учитывая прошедшие сутки и оставшиеся минуты\n",
    "elif n//60 > 23:\n",
    "    hours = n // 60 - 24*((n // 60)/24)\n",
    "    minutes = n % 60\n",
    "    \n",
    "#выводим результат\n",
    "print(int(hours), minutes)"
   ]
  },
  {
   "cell_type": "markdown",
   "id": "d975d5d1",
   "metadata": {},
   "source": [
    "## Задание 5\n",
    "Электронные часы показывают время в формате h:mm:ss, то есть сначала записывается количество часов, потом обязательно двузначное количество минут, затем обязательно двузначное количество секунд. Количество минут и секунд при необходимости дополняются до двузначного числа нулями.\n",
    "С начала суток прошло n секунд. Выведите, что покажут часы.\n",
    "\n",
    "#### Входные данные\n",
    "Вводится целое число n.\n",
    "#### Выходные данные\n",
    "Выведите ответ на задачу, соблюдая требуемый формат.\n",
    "\n",
    "#### Примеры\n",
    "Входные данные\n",
    "3602\n",
    "\n",
    "Выходные данные\n",
    "1:00:02\n",
    "\n",
    "Входные данные\n",
    "129700\n",
    "\n",
    "Выходные данные\n",
    "12:01:40\n"
   ]
  },
  {
   "cell_type": "code",
   "execution_count": 57,
   "id": "6a10c678",
   "metadata": {},
   "outputs": [
    {
     "name": "stdout",
     "output_type": "stream",
     "text": [
      "129700\n",
      "12 : 01 : 40\n"
     ]
    }
   ],
   "source": [
    "n = int(input()) # вводим кол-во секунд\n",
    "\n",
    "hours = n // 3600 % 24\n",
    "minutes = n // 3600 // 60 // 10 \n",
    "minutes_2 = n % 3600 // 60 % 10\n",
    "seconds = n % 60 // 10\n",
    "seconds_2 = n % 60 % 10\n",
    "\n",
    "print(hours,':',str(minutes) + str(minutes_2), ':', str(seconds) + str(seconds_2))"
   ]
  },
  {
   "cell_type": "code",
   "execution_count": 58,
   "id": "744facd2",
   "metadata": {},
   "outputs": [
    {
     "name": "stdout",
     "output_type": "stream",
     "text": [
      "3602\n",
      "1:00:02\n"
     ]
    }
   ],
   "source": [
    "n = int(input()) # вводим кол-во секунд\n",
    "\n",
    "hours = n // 3600 % 24\n",
    "minutes = n // 3600 // 60 // 10 \n",
    "minutes_2 = n % 3600 // 60 % 10\n",
    "seconds = n % 60 // 10\n",
    "seconds_2 = n % 60 % 10\n",
    "\n",
    "print(f\"{hours}:{minutes}{minutes_2}:{seconds}{seconds_2}\")"
   ]
  },
  {
   "cell_type": "markdown",
   "id": "9c4a00b6",
   "metadata": {},
   "source": [
    "## Задание 6\n",
    "Улитка ползёт по вертикальному шесту высотой h метров, поднимаясь за день на a метров, а за ночь спускаясь на b метров. На какой день улитка доползёт до вершины шеста?\n",
    "#### Входные данные\n",
    "Программа получает на вход натуральные числа h, a, b. Гарантируется, что a>b.\n",
    "#### Выходные данные\n",
    "Программа должна вывести одно натуральное число.\n",
    "##### Примечание\n",
    "При решении этой задачи нельзя пользоваться условной инструкцией if и циклами.\n",
    "\n",
    "#### Примеры\n",
    "\n",
    "Входные данные\n",
    "10\n",
    "3\n",
    "2\n",
    "\n",
    "Выходные данные\n",
    "8\n",
    "\n",
    "\n",
    "Входные данные\n",
    "20\n",
    "7\n",
    "3\n",
    "\n",
    "Выходные данные\n",
    "5\n"
   ]
  },
  {
   "cell_type": "code",
   "execution_count": 59,
   "id": "76217392",
   "metadata": {},
   "outputs": [
    {
     "name": "stdout",
     "output_type": "stream",
     "text": [
      "20\n",
      "7\n",
      "3\n",
      "5\n"
     ]
    }
   ],
   "source": [
    "#вводим данные высоты и метров подъема и спуска\n",
    "h = int(input())\n",
    "a = int(input())\n",
    "b = int(input())\n",
    "\n",
    "## up = a * days на сколько поднимется за определенное кол-во дней\n",
    "## down = b * (days - 1) на сколько спустится за дни до того, когда дойдет до нужной высоты\n",
    "## (a * days - (b * (days - 1))) \n",
    "## a * days - b * days + b\n",
    "## days * (a - b) + b\n",
    "## (h - b)/(a - b)\n",
    "\n",
    "\n",
    "days = (h - b)/(a - b) #считаем кол-во необходимых дней для этой высоты\n",
    "print(m.ceil(days)) # выводим округленное целое число дней"
   ]
  },
  {
   "cell_type": "code",
   "execution_count": null,
   "id": "a1bf70ff",
   "metadata": {},
   "outputs": [],
   "source": []
  }
 ],
 "metadata": {
  "kernelspec": {
   "display_name": "Python 3 (ipykernel)",
   "language": "python",
   "name": "python3"
  },
  "language_info": {
   "codemirror_mode": {
    "name": "ipython",
    "version": 3
   },
   "file_extension": ".py",
   "mimetype": "text/x-python",
   "name": "python",
   "nbconvert_exporter": "python",
   "pygments_lexer": "ipython3",
   "version": "3.11.5"
  }
 },
 "nbformat": 4,
 "nbformat_minor": 5
}
