{
 "cells": [
  {
   "cell_type": "markdown",
   "id": "5e3b39d8",
   "metadata": {},
   "source": [
    "### Задача 1: Палиндром\n",
    "\n",
    "Дается целое число x, верните True, если x является палиндромом и False в противном случае.\n",
    "\n",
    "Целое число является палиндромом, если оно читается одинаково и вперед, и назад.\n",
    "\n",
    "Например, 121 является палиндромом, а 123 — нет. Нельзя использовать slicing\n"
   ]
  },
  {
   "cell_type": "markdown",
   "id": "8ccd71f6",
   "metadata": {},
   "source": [
    "#### Пример 1:\n",
    "\n",
    "Input: x = 121\n",
    "Output: true\n",
    "Пояснение: 121 читается как 121 слева направо и справа налево."
   ]
  },
  {
   "cell_type": "markdown",
   "id": "3c1cfd86",
   "metadata": {},
   "source": [
    "#### Пример 2:\n",
    "\n",
    "Input: x = -121\n",
    "Output: false\n",
    "Пояснение: Слева направо написано -121. Справа налево становится 121-. Следовательно, это не палиндром.\n"
   ]
  },
  {
   "cell_type": "markdown",
   "id": "00b85e25",
   "metadata": {},
   "source": [
    "#### Пример 3:\n",
    "\n",
    "Input: x = 10\n",
    "Output: false\n",
    "\n",
    "Ограничения: -231 <= x <= 231 - 1\n"
   ]
  },
  {
   "cell_type": "code",
   "execution_count": 66,
   "id": "354cb540",
   "metadata": {},
   "outputs": [
    {
     "name": "stdout",
     "output_type": "stream",
     "text": [
      "-121\n",
      "False\n"
     ]
    }
   ],
   "source": [
    "#вариант 1\n",
    "\n",
    "x = int(input())\n",
    "x_str = str(x)\n",
    "\n",
    "j = -1\n",
    "diff = 0\n",
    "\n",
    "for i in range(0, len(x_str)):\n",
    "    if x_str[i] != x_str[j] :\n",
    "        diff = 1\n",
    "        break\n",
    "    j -= 1\n",
    "\n",
    "print(diff == 0)\n",
    "    "
   ]
  },
  {
   "cell_type": "code",
   "execution_count": 61,
   "id": "276db778",
   "metadata": {
    "scrolled": true
   },
   "outputs": [
    {
     "name": "stdout",
     "output_type": "stream",
     "text": [
      "121\n",
      "True\n"
     ]
    }
   ],
   "source": [
    "#вариант 2\n",
    "\n",
    "def isPalindrome(a):\n",
    "    for i in range(0, int(len(a)/2)):\n",
    "        if a[i] != a[len(a)-i-1]:\n",
    "            return False\n",
    "    return True\n",
    " \n",
    "x = int(input())\n",
    "x_str = str(x)\n",
    "\n",
    "print(isPalindrome(x_str))"
   ]
  },
  {
   "cell_type": "markdown",
   "id": "13148f33",
   "metadata": {},
   "source": [
    "### Задача 2: Сумма из 2х\n",
    "\n",
    "Дается list целых чисел nums и число target, верните индексы таких двух чисел внутри nums, чтобы их сумма составляла значение target.\n",
    "\n",
    "Вы можете предположить, что каждый пример будет иметь ровно одно решение, и вы не можете использовать один и тот же элемент дважды.\n",
    "\n",
    "Вы можете вернуть ответ в любом порядке.\n"
   ]
  },
  {
   "cell_type": "markdown",
   "id": "82c01c01",
   "metadata": {},
   "source": [
    "#### Пример 1:\n",
    "\n",
    "Input: nums = [2,7,11,15], target = 9\n",
    "Output: [0,1]\n",
    "Объяснение: Так как nums[0] + nums[1] == 9, Возвращаем [0, 1].\n",
    "\n",
    "#### Пример 2:\n",
    "\n",
    "Input: nums = [3,2,4], target = 6\n",
    "Output: [1,2]\n",
    "\n",
    "#### Пример 3:\n",
    "\n",
    "Input: nums = [3,3], target = 6\n",
    "Output: [0,1]\n"
   ]
  },
  {
   "cell_type": "code",
   "execution_count": 21,
   "id": "6bb7868c",
   "metadata": {},
   "outputs": [
    {
     "name": "stdout",
     "output_type": "stream",
     "text": [
      "nums: 3 2 4\n",
      "target: 6\n",
      "[1, 2]\n"
     ]
    }
   ],
   "source": [
    "def sum_of_two(nums, target):\n",
    "    num_dict = {}\n",
    "    for i, num in enumerate(nums):\n",
    "        x = target - num\n",
    "        if x in num_dict:\n",
    "            return [num_dict[x], i]\n",
    "        num_dict[num] = i\n",
    "        \n",
    "        \n",
    "nums = list(map(int, input(\"nums: \").split()))\n",
    "target = int(input(\"target: \"))\n",
    "\n",
    "res = sum_of_two(nums, target)\n",
    "\n",
    "print(res)"
   ]
  },
  {
   "cell_type": "markdown",
   "id": "c11a5138",
   "metadata": {},
   "source": [
    "### Задача 3: Валидный судоку\n",
    "\n",
    "Определите, действительна ли доска для судоку 9 x 9. Только заполненные ячейки подлежат проверке согласно следующим правилам:\n",
    "\n",
    "Каждая строка должна содержать цифры от 1 до 9 без повторений.\n",
    "Каждый столбец должен содержать цифры 1–9 без повторений.\n",
    "Каждый из девяти подполей сетки размером 3х3 должен содержать цифры от 1 до 9 без повторений.\n",
    "\n",
    "##### Примечание:\n",
    "Доска судоку (частично заполненная) может быть допустимой, но не обязательно решаемой.\n",
    "Только заполненные ячейки должны быть проверены в соответствии с указанными правилами.\n"
   ]
  },
  {
   "cell_type": "code",
   "execution_count": 7,
   "id": "83c0f7ea",
   "metadata": {},
   "outputs": [
    {
     "name": "stdout",
     "output_type": "stream",
     "text": [
      "False\n"
     ]
    }
   ],
   "source": [
    "def is_valid_unit(unit):\n",
    "    seen = set()\n",
    "    for num in unit:\n",
    "        if num != \".\":\n",
    "            if num in seen:\n",
    "                return False\n",
    "            seen.add(num)\n",
    "    return True\n",
    "\n",
    "def is_valid_sudoku(board):\n",
    "\n",
    "    for i in board:\n",
    "        if not is_valid_unit(i):\n",
    "            return False\n",
    "\n",
    "    for j in zip(*board):\n",
    "        if not is_valid_unit(j):\n",
    "            return False\n",
    "    \n",
    "    for row_start in range(0, 9, 3):\n",
    "        for col_start in range(0, 9, 3):\n",
    "            subgrid = []\n",
    "            for i in range(3):\n",
    "                for j in range(3):\n",
    "                    subgrid.append(board[row_start + i][col_start + j])\n",
    "            if not is_valid_unit(subgrid):\n",
    "                return False\n",
    "            \n",
    "    return True\n",
    "\n",
    "# print(\"Введите доску судоку 9x9 (используйте точку для пустых клеток):\")\n",
    "# board = [list(input()) for _ in range(9)]\n",
    "\n",
    "board= [[\"8\",\"3\",\".\",\".\",\"7\",\".\",\".\",\".\",\".\"]\n",
    ",[\"6\",\".\",\".\",\"1\",\"9\",\"5\",\".\",\".\",\".\"]\n",
    ",[\".\",\"9\",\"8\",\".\",\".\",\".\",\".\",\"6\",\".\"]\n",
    ",[\"8\",\".\",\".\",\".\",\"6\",\".\",\".\",\".\",\"3\"]\n",
    ",[\"4\",\".\",\".\",\"8\",\".\",\"3\",\".\",\".\",\"1\"]\n",
    ",[\"7\",\".\",\".\",\".\",\"2\",\".\",\".\",\".\",\"6\"]\n",
    ",[\".\",\"6\",\".\",\".\",\".\",\".\",\"2\",\"8\",\".\"]\n",
    ",[\".\",\".\",\".\",\"4\",\"1\",\"9\",\".\",\".\",\"5\"]\n",
    ",[\".\",\".\",\".\",\".\",\"8\",\".\",\".\",\"7\",\"9\"]]\n",
    "\n",
    "\n",
    "if is_valid_sudoku(board):\n",
    "    print(\"True\")\n",
    "else:\n",
    "    print(\"False\")"
   ]
  },
  {
   "cell_type": "markdown",
   "id": "d46bb139",
   "metadata": {},
   "source": [
    "### Задача 4: Группировка анаграмм\n",
    "\n",
    "Дается list строк strs, сгруппируйте анаграммы вместе. Вы можете вернуть ответ в любом порядке.\n",
    "\n",
    "Анаграмма — это слово или фраза, образованная перестановкой букв другого слова или фразы, обычно с использованием всех исходных букв ровно один раз.\n"
   ]
  },
  {
   "cell_type": "code",
   "execution_count": 10,
   "id": "d8cbdc6d",
   "metadata": {},
   "outputs": [
    {
     "name": "stdout",
     "output_type": "stream",
     "text": [
      "Введите список слов через пробел: eat bun tea nut\n",
      "[['eat', 'tea'], ['bun'], ['nut']]\n"
     ]
    }
   ],
   "source": [
    "def anagrams(strs):\n",
    "    dict_anagram = {}\n",
    "    for i in strs:\n",
    "        sorted_word = \"\".join(sorted(i))\n",
    "        if sorted_word in dict_anagram:\n",
    "            dict_anagram[sorted_word].append(i)\n",
    "        else:\n",
    "            dict_anagram[sorted_word] = [i]\n",
    "    return list(dict_anagram.values())\n",
    "\n",
    "strs = input(\"Введите список слов через пробел: \").split()\n",
    "print(anagrams(strs))"
   ]
  },
  {
   "cell_type": "markdown",
   "id": "12b5bdea",
   "metadata": {},
   "source": [
    "### Задача 5: Валидные скобки\n",
    "\n",
    "Дается строка s, содержащую только символы '(', ')', '{', '}', '[' и ']', определите, является ли входная строка валидной.\n",
    "\n",
    "Входная строка валидна, если:\n",
    "\n",
    "Открытые скобки должны закрываться скобками того же типа.\n",
    "Открытые скобки должны закрываться в правильном порядке.\n",
    "Каждой закрывающей скобке соответствует открытая скобка того же типа.\n",
    "\n"
   ]
  },
  {
   "cell_type": "code",
   "execution_count": 11,
   "id": "f6d2ac4f",
   "metadata": {},
   "outputs": [
    {
     "name": "stdout",
     "output_type": "stream",
     "text": [
      "Введите строку скобок: ((()()))]\n",
      "False\n"
     ]
    }
   ],
   "source": [
    "def is_valid(s):\n",
    "    stack = []\n",
    "    brackets = {')': '(', '}': '{', ']': '['}\n",
    "    for i in s:\n",
    "        if i in brackets.values():  \n",
    "            stack.append(i)\n",
    "        elif i in brackets: \n",
    "            if not stack or brackets[i] != stack.pop():\n",
    "                return False\n",
    "        else:\n",
    "            continue\n",
    "    return not stack\n",
    "\n",
    "s= input(\"Введите строку скобок: \")\n",
    "print(is_valid(s))\n"
   ]
  },
  {
   "cell_type": "markdown",
   "id": "51760f40",
   "metadata": {},
   "source": [
    "### Задача 6: Топ k часто встречаемых слов\n",
    "\n",
    "Учитывая массив строковых слов и целое число k, верните k наиболее часто встречающихся строк.\n",
    "\n",
    "Возвращает ответ, отсортированный по частоте от самого высокого до самого низкого. Отсортируйте слова с одинаковой частотой по их лексикографическому порядку (через функцию sort() ) .\n"
   ]
  },
  {
   "cell_type": "code",
   "execution_count": 13,
   "id": "2a6f1946",
   "metadata": {},
   "outputs": [
    {
     "name": "stdout",
     "output_type": "stream",
     "text": [
      "Введите список слов через пробел: i love python python loves me i love math\n",
      "Введите целое число k: 2\n",
      "['i', 'love']\n"
     ]
    }
   ],
   "source": [
    "def frequent(words, k):\n",
    "    count = {}\n",
    "    for i in words:\n",
    "        if i in count:\n",
    "            count[i] += 1\n",
    "        else:\n",
    "            count[i] = 1\n",
    "\n",
    "    sorted_words = sorted(count.keys(), key=lambda x: (-count[x], x))\n",
    "\n",
    "    return sorted_words[:k]\n",
    "\n",
    "words = input(\"Введите список слов через пробел: \").split()\n",
    "k = int(input(\"Введите целое число k: \"))\n",
    "\n",
    "print(frequent(words, k))"
   ]
  },
  {
   "cell_type": "markdown",
   "id": "065485ca",
   "metadata": {},
   "source": [
    "### Задача 7: Пересечение 2х листов\n",
    "\n",
    "Учитывая два целочисленных массива nums1 и nums2, верните массив их пересечения. Каждый элемент результата должен быть уникальным, и вы можете возвращать результат в любом порядке."
   ]
  },
  {
   "cell_type": "code",
   "execution_count": 15,
   "id": "fbadf221",
   "metadata": {},
   "outputs": [
    {
     "name": "stdout",
     "output_type": "stream",
     "text": [
      "Введите элементы списка nums1 через пробел: 2 3 5 4\n",
      "Введите элементы списка nums2 через пробел: 1 2 4 6 7\n",
      "[2, 4]\n"
     ]
    }
   ],
   "source": [
    "def intersept(nums1, nums2):\n",
    "    set1 = set(nums1)\n",
    "    set2 = set(nums2)\n",
    "    return list(set1 & set2)\n",
    "\n",
    "nums1 = list(map(int, input(\"Введите элементы списка nums1 через пробел: \").split()))\n",
    "nums2 = list(map(int, input(\"Введите элементы списка nums2 через пробел: \").split()))\n",
    "\n",
    "print(intersept(nums1, nums2))"
   ]
  },
  {
   "cell_type": "markdown",
   "id": "204f22b2",
   "metadata": {},
   "source": [
    "### Задача 8: Изоморфные строки\n",
    "\n",
    "Даны две строки s и t. Определите, изоморфны ли они. Две строки s и t изоморфны, если символы в s можно заменить, чтобы получить t. Все вхождения символа должны быть заменены другим символом с сохранением порядка символов. Никакие два символа не могут сопоставляться одному и тому же символу, но символ может сопоставляться сам с собой.\n"
   ]
  },
  {
   "cell_type": "code",
   "execution_count": 16,
   "id": "273a5294",
   "metadata": {},
   "outputs": [
    {
     "name": "stdout",
     "output_type": "stream",
     "text": [
      "Введите строку s: add\n",
      "Введите строку t: egg\n",
      "True\n"
     ]
    }
   ],
   "source": [
    "def is_isomorphic(s, t):\n",
    "    if len(s) != len(t):\n",
    "        return False\n",
    "    \n",
    "    s_t = {}\n",
    "    t_s = {}\n",
    "    \n",
    "    for char_s, char_t in zip(s, t):\n",
    "        if char_s not in s_t and char_t not in t_s:\n",
    "            s_t[char_s] = char_t\n",
    "            t_s[char_t] = char_s\n",
    "        elif s_t.get(char_s) != char_t or t_s.get(char_t) != char_s:\n",
    "            return False\n",
    "    \n",
    "    return True\n",
    "\n",
    "\n",
    "s = input(\"Введите строку s: \")\n",
    "t = input(\"Введите строку t: \")\n",
    "print(is_isomorphic(s, t))"
   ]
  },
  {
   "cell_type": "markdown",
   "id": "4ef02376",
   "metadata": {},
   "source": [
    "### Задача 9: Максимальный подлист\n",
    "\n",
    "Дается лист nums из целых чисел, найдите подлист с наибольшей суммой и верните его сумму.\n",
    "Подлист — это непрерывная непустая последовательность элементов листа.\n"
   ]
  },
  {
   "cell_type": "code",
   "execution_count": 18,
   "id": "2b64b845",
   "metadata": {},
   "outputs": [
    {
     "name": "stdout",
     "output_type": "stream",
     "text": [
      "Введите список чисел через пробел: 5 4 -1 7 8\n",
      "23\n"
     ]
    }
   ],
   "source": [
    "def max_array(nums):\n",
    "    max_sum = float('-inf')\n",
    "    current_sum = 0\n",
    "\n",
    "    for num in nums:\n",
    "        current_sum = max(num, current_sum + num)\n",
    "        max_sum = max(max_sum, current_sum)\n",
    "\n",
    "    return max_sum\n",
    "\n",
    "nums = list(map(int, input(\"Введите список чисел через пробел: \").split()))\n",
    "\n",
    "print(max_array(nums))\n"
   ]
  },
  {
   "cell_type": "markdown",
   "id": "6eb315a1",
   "metadata": {},
   "source": [
    "### Задача 10: Поворот строки\n",
    "\n",
    "Даются две строки s и goal, верните true тогда и только тогда, когда s может стать goal после некоторого количества сдвигов s. Сдвиг по s заключается в перемещении самого левого символа s в крайнее правое положение. Например, если s = «abcde», то после одной смены будет «bcdea».\n"
   ]
  },
  {
   "cell_type": "code",
   "execution_count": 20,
   "id": "fcd2a57d",
   "metadata": {},
   "outputs": [
    {
     "name": "stdout",
     "output_type": "stream",
     "text": [
      "s: abcde\n",
      "goal: cdeabcdeab\n",
      "False\n"
     ]
    }
   ],
   "source": [
    "def rotate_string(s, goal):\n",
    "    if len(s) != len(goal):\n",
    "        return False\n",
    "    \n",
    "    if s == goal:\n",
    "        return True\n",
    "\n",
    "    for i in range(len(s)):\n",
    "        s = s[1:] + s[0]\n",
    "        if s == goal:\n",
    "            return True\n",
    "    \n",
    "    return False\n",
    "\n",
    "s = input(\"s: \")\n",
    "goal = input(\"goal: \")\n",
    "\n",
    "print(rotate_string(s, goal))\n"
   ]
  },
  {
   "cell_type": "code",
   "execution_count": null,
   "id": "3c1ec0d6",
   "metadata": {},
   "outputs": [],
   "source": []
  }
 ],
 "metadata": {
  "kernelspec": {
   "display_name": "Python 3 (ipykernel)",
   "language": "python",
   "name": "python3"
  },
  "language_info": {
   "codemirror_mode": {
    "name": "ipython",
    "version": 3
   },
   "file_extension": ".py",
   "mimetype": "text/x-python",
   "name": "python",
   "nbconvert_exporter": "python",
   "pygments_lexer": "ipython3",
   "version": "3.11.5"
  }
 },
 "nbformat": 4,
 "nbformat_minor": 5
}
